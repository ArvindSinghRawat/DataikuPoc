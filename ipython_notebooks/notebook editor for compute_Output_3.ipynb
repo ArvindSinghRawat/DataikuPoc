{
  "metadata": {
    "kernelspec": {
      "name": "py-dku-containerized-venv--cpu-m-1-cpu-4gb-ram",
      "display_name": "Python in CPU-M-1-cpu-4Gb-Ram (builtin env)",
      "language": "python"
    },
    "associatedRecipe": "compute_Output",
    "dkuGit": {
      "lastInteraction": 0
    },
    "creationTag": {
      "versionNumber": 0,
      "lastModifiedBy": {
        "login": "hacragajeuddou-5964@toolbox.ovh"
      },
      "lastModifiedOn": 1688996533074,
      "extendedProperties": {}
    },
    "creator": "hacragajeuddou-5964@toolbox.ovh",
    "createdOn": 1688996533074,
    "tags": [
      "recipe-editor"
    ],
    "customFields": {},
    "hide_input": false,
    "modifiedBy": "hacragajeuddou-5964@toolbox.ovh"
  },
  "nbformat": 4,
  "nbformat_minor": 1,
  "cells": [
    {
      "cell_type": "markdown",
      "metadata": {},
      "source": [
        "# Processing"
      ]
    },
    {
      "cell_type": "markdown",
      "metadata": {},
      "source": [
        "## Imports"
      ]
    },
    {
      "execution_count": 0,
      "cell_type": "code",
      "metadata": {},
      "source": [
        "# -*- coding: utf-8 -*-\nimport dataiku\nimport pandas as pd, numpy as np\nfrom dataiku import pandasutils as pdu"
      ],
      "outputs": []
    },
    {
      "cell_type": "markdown",
      "metadata": {},
      "source": [
        "## Reading Data"
      ]
    },
    {
      "execution_count": 0,
      "cell_type": "code",
      "metadata": {},
      "source": [
        "# Read recipe inputs\nghg_input \u003d dataiku.Dataset(\"GHG_Emissions_prepared\")\nghg_input_df \u003d ghg_input.get_dataframe()\nfinance_input \u003d dataiku.Dataset(\"Input_prepared\")\nfinance_input_df \u003d finance_input.get_dataframe()"
      ],
      "outputs": []
    },
    {
      "cell_type": "markdown",
      "metadata": {},
      "source": [
        "# Compute Logic"
      ]
    },
    {
      "execution_count": 0,
      "cell_type": "code",
      "metadata": {},
      "source": [
        "years \u003d pd.Series(list(range(2021,2100)))\nrevenue \u003d finance_input[\"Revenue (All regions)\"]"
      ],
      "outputs": []
    },
    {
      "execution_count": 0,
      "cell_type": "code",
      "metadata": {},
      "source": [
        "output_df \u003d pd.concat({\n    \u0027Year\u0027: years,\n    \"Revenue (All regions)\": revenue\n})"
      ],
      "outputs": []
    },
    {
      "cell_type": "markdown",
      "metadata": {},
      "source": [
        "## Saving Logic"
      ]
    },
    {
      "execution_count": 0,
      "cell_type": "code",
      "metadata": {},
      "source": [
        "# Write recipe outputs\nOutput \u003d dataiku.Dataset(\"Output\")\nOutput.write_with_schema(output_df)"
      ],
      "outputs": []
    }
  ]
}