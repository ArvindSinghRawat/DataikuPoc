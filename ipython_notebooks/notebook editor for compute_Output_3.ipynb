{
  "nbformat": 4,
  "nbformat_minor": 0,
  "metadata": {
    "kernelspec": {
      "display_name": "Python in CPU-M-1-cpu-4Gb-Ram (builtin env)",
      "language": "python",
      "name": "py-dku-containerized-venv--cpu-m-1-cpu-4gb-ram"
    },
    "associatedRecipe": "compute_Output",
    "dkuGit": {
      "lastInteraction": 0
    },
    "creationTag": {
      "versionNumber": 0,
      "lastModifiedBy": {
        "login": "hacragajeuddou-5964@toolbox.ovh"
      },
      "lastModifiedOn": 1688996533074,
      "extendedProperties": {}
    },
    "creator": "hacragajeuddou-5964@toolbox.ovh",
    "createdOn": 1688996533074,
    "tags": [
      "recipe-editor"
    ],
    "customFields": {}
  },
  "cells": [
    {
      "cell_type": "markdown",
      "metadata": {},
      "source": [
        "# Processing"
      ]
    },
    {
      "cell_type": "markdown",
      "metadata": {},
      "source": [
        "## Imports"
      ]
    },
    {
      "cell_type": "code",
      "metadata": {},
      "outputs": [],
      "execution_count": 0,
      "source": [
        "# -*- coding: utf-8 -*-\n",
        "import dataiku\n",
        "import pandas as pd, numpy as np\n",
        "from dataiku import pandasutils as pdu\n",
        "\n",
        "\n",
        "# Write recipe outputs\n",
        "Output \u003d dataiku.Dataset(\"Output\")\n",
        "Output.write_with_schema(Output_df)"
      ]
    },
    {
      "cell_type": "markdown",
      "metadata": {},
      "source": [
        "## Reading Data"
      ]
    },
    {
      "cell_type": "code",
      "metadata": {},
      "outputs": [],
      "execution_count": 0,
      "source": [
        "# Read recipe inputs\n",
        "ghg_input \u003d dataiku.Dataset(\"GHG_Emissions_prepared\")\n",
        "ghg_input_df \u003d ghg_input.get_dataframe()\n",
        "finance_input \u003d dataiku.Dataset(\"Input_prepared\")\n",
        "finance_input_df \u003d finance_input.get_dataframe()"
      ]
    },
    {
      "cell_type": "markdown",
      "metadata": {},
      "source": [
        "# Compute Logic"
      ]
    },
    {
      "cell_type": "code",
      "metadata": {},
      "outputs": [],
      "execution_count": 0,
      "source": [
        "years \u003d pd.Series(list(range(2021,2100)))\n",
        "revenue \u003d finance_input[\"Revenue (All regions)\"]"
      ]
    },
    {
      "cell_type": "code",
      "metadata": {},
      "outputs": [],
      "execution_count": 0,
      "source": [
        "# Compute recipe outputs\n",
        "# TODO: Write here your actual code that computes the outputs\n",
        "# NB: DSS supports several kinds of APIs for reading and writing data. Please see doc.\n",
        "\n",
        "Output_df \u003d ... # Compute a Pandas dataframe to write into Output"
      ]
    }
  ]
}