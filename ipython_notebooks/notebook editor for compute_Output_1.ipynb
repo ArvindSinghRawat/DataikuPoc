{
  "metadata": {
    "kernelspec": {
      "name": "py-dku-containerized-venv--cpu-m-1-cpu-4gb-ram",
      "display_name": "Python in CPU-M-1-cpu-4Gb-Ram (builtin env)",
      "language": "python"
    },
    "creator": "hacragajeuddou-5964@toolbox.ovh",
    "createdOn": 1688992568069,
    "tags": [
      "deleted-recipe-editor"
    ],
    "customFields": {},
    "hide_input": false,
    "language_info": {
      "name": "python",
      "version": "3.6.8",
      "mimetype": "text/x-python",
      "codemirror_mode": {
        "name": "ipython",
        "version": 3
      },
      "pygments_lexer": "ipython3",
      "nbconvert_exporter": "python",
      "file_extension": ".py"
    },
    "modifiedBy": "hacragajeuddou-5964@toolbox.ovh"
  },
  "nbformat": 4,
  "nbformat_minor": 1,
  "cells": [
    {
      "execution_count": 0,
      "cell_type": "code",
      "metadata": {},
      "source": [
        "# -*- coding: utf-8 -*-\nimport dataiku\nimport pandas as pd, numpy as np\nfrom dataiku import pandasutils as pdu"
      ],
      "outputs": []
    },
    {
      "execution_count": 0,
      "cell_type": "code",
      "metadata": {},
      "source": [
        "# Read recipe inputs\nghg_input \u003d dataiku.Dataset(\"GHG_Emissions_prepared\")\nghg_input_df \u003d ghg_input.get_dataframe()\nfinance_input \u003d dataiku.Dataset(\"Input_prepared\")\nfinance_input_df \u003d finance_input.get_dataframe()"
      ],
      "outputs": []
    },
    {
      "execution_count": 0,
      "cell_type": "code",
      "metadata": {},
      "source": [
        "\n\n# Compute recipe outputs\n# TODO: Write here your actual code that computes the outputs\n# NB: DSS supports several kinds of APIs for reading and writing data. Please see doc.\n\nOutput_df \u003d ... # Compute a Pandas dataframe to write into Output\n\n"
      ],
      "outputs": []
    },
    {
      "execution_count": 0,
      "cell_type": "code",
      "metadata": {},
      "source": [
        "\n# Write recipe outputs\nOutput \u003d dataiku.Dataset(\"Output\")\nOutput.write_with_schema(Output_df)W"
      ],
      "outputs": []
    }
  ]
}