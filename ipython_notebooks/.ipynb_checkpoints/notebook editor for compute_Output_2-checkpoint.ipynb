{
  "nbformat": 4,
  "nbformat_minor": 0,
  "metadata": {
    "kernelspec": {
      "display_name": "Python in CPU-M-1-cpu-4Gb-Ram (builtin env)",
      "language": "python",
      "name": "py-dku-containerized-venv--cpu-m-1-cpu-4gb-ram"
    },
    "associatedRecipe": "compute_Output",
    "dkuGit": {
      "lastInteraction": 0
    },
    "creationTag": {
      "versionNumber": 0,
      "lastModifiedBy": {
        "login": "hacragajeuddou-5964@toolbox.ovh"
      },
      "lastModifiedOn": 1688992779008,
      "extendedProperties": {}
    },
    "creator": "hacragajeuddou-5964@toolbox.ovh",
    "createdOn": 1688992779008,
    "tags": [
      "recipe-editor"
    ],
    "customFields": {}
  },
  "cells": [
    {
      "cell_type": "markdown",
      "metadata": {},
      "source": [
        "# Processing"
      ]
    },
    {
      "cell_type": "markdown",
      "metadata": {},
      "source": [
        "## Imports"
      ]
    },
    {
      "cell_type": "code",
      "metadata": {},
      "outputs": [],
      "execution_count": 0,
      "source": [
        "# -*- coding: utf-8 -*-\n",
        "import dataiku\n",
        "import pandas as pd, numpy as np\n",
        "from dataiku import pandasutils as pdu"
      ]
    },
    {
      "cell_type": "markdown",
      "metadata": {},
      "source": [
        "## Reading datasets"
      ]
    },
    {
      "cell_type": "code",
      "metadata": {},
      "outputs": [],
      "execution_count": 0,
      "source": [
        "# Read recipe inputs\n",
        "ghg_input \u003d dataiku.Dataset(\"GHG_Emissions_prepared\")\n",
        "ghg_input_df \u003d ghg_input.get_dataframe()\n",
        "finance_input \u003d dataiku.Dataset(\"Input_prepared\")\n",
        "finance_input_df \u003d finance_input.get_dataframe()"
      ]
    },
    {
      "cell_type": "markdown",
      "metadata": {},
      "source": [
        "## Actual Processing\n",
        "\n",
        "- Computes a range of years, and then extrapolates linearly till 2100"
      ]
    },
    {
      "cell_type": "code",
      "metadata": {},
      "outputs": [],
      "execution_count": 0,
      "source": [
        "years \u003d pd.Series(list(range(2021, 2100)))\n",
        "finance_input_df[\"Cash and cash equivalents\"]"
      ]
    },
    {
      "cell_type": "code",
      "metadata": {},
      "outputs": [],
      "execution_count": 0,
      "source": [
        "years"
      ]
    },
    {
      "cell_type": "code",
      "metadata": {},
      "outputs": [],
      "execution_count": 0,
      "source": [
        "# Compute recipe outputs\n",
        "# TODO: Write here your actual code that computes the outputs\n",
        "# NB: DSS supports several kinds of APIs for reading and writing data. Please see doc.\n",
        "\n",
        "Output_df \u003d ... # Compute a Pandas dataframe to write into Output\n",
        "\n",
        "\n",
        "# Write recipe outputs\n",
        "Output \u003d dataiku.Dataset(\"Output\")\n",
        "Output.write_with_schema(Output_df)"
      ]
    }
  ]
}