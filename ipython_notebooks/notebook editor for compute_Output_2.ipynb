{
  "nbformat": 4,
  "nbformat_minor": 0,
  "metadata": {
    "kernelspec": {
      "display_name": "Python in CPU-M-1-cpu-4Gb-Ram (builtin env)",
      "language": "python",
      "name": "py-dku-containerized-venv--cpu-m-1-cpu-4gb-ram"
    },
    "associatedRecipe": "compute_Output",
    "creator": "hacragajeuddou-5964@toolbox.ovh",
    "createdOn": 1688992779008,
    "tags": [
      "recipe-editor"
    ],
    "customFields": {}
  },
  "cells": [
    {
      "cell_type": "code",
      "metadata": {},
      "outputs": [],
      "execution_count": 0,
      "source": [
        "# -*- coding: utf-8 -*-\n",
        "import dataiku\n",
        "import pandas as pd, numpy as np\n",
        "from dataiku import pandasutils as pdu\n",
        "\n",
        "# Read recipe inputs\n",
        "GHG_Emissions_prepared \u003d dataiku.Dataset(\"GHG_Emissions_prepared\")\n",
        "GHG_Emissions_prepared_df \u003d GHG_Emissions_prepared.get_dataframe()\n",
        "Input_prepared \u003d dataiku.Dataset(\"Input_prepared\")\n",
        "Input_prepared_df \u003d Input_prepared.get_dataframe()\n",
        "\n",
        "\n",
        "# Compute recipe outputs\n",
        "# TODO: Write here your actual code that computes the outputs\n",
        "# NB: DSS supports several kinds of APIs for reading and writing data. Please see doc.\n",
        "\n",
        "Output_df \u003d ... # Compute a Pandas dataframe to write into Output\n",
        "\n",
        "\n",
        "# Write recipe outputs\n",
        "Output \u003d dataiku.Dataset(\"Output\")\n",
        "Output.write_with_schema(Output_df)"
      ]
    }
  ]
}