{
  "nbformat": 4,
  "nbformat_minor": 0,
  "metadata": {
    "kernelspec": {
      "display_name": "Python in CPU-M-1-cpu-4Gb-Ram (builtin env)",
      "language": "python",
      "name": "py-dku-containerized-venv--cpu-m-1-cpu-4gb-ram"
    },
    "associatedRecipe": "compute_Output",
    "dkuGit": {
      "lastInteraction": 0
    },
    "creationTag": {
      "versionNumber": 0,
      "lastModifiedBy": {
        "login": "hacragajeuddou-5964@toolbox.ovh"
      },
      "lastModifiedOn": 1688992779008,
      "extendedProperties": {}
    },
    "creator": "hacragajeuddou-5964@toolbox.ovh",
    "createdOn": 1688992779008,
    "tags": [
      "recipe-editor"
    ],
    "customFields": {}
  },
  "cells": [
    {
      "cell_type": "markdown",
      "metadata": {},
      "source": [
        "# Processing"
      ]
    },
    {
      "cell_type": "markdown",
      "metadata": {},
      "source": [
        "## Imports"
      ]
    },
    {
      "cell_type": "code",
      "metadata": {},
      "outputs": [],
      "execution_count": 0,
      "source": [
        "# -*- coding: utf-8 -*-\n",
        "import dataiku\n",
        "import pandas as pd, numpy as np\n",
        "from dataiku import pandasutils as pdu"
      ]
    },
    {
      "cell_type": "markdown",
      "metadata": {},
      "source": [
        "## Reading datasets"
      ]
    },
    {
      "cell_type": "code",
      "metadata": {},
      "outputs": [],
      "execution_count": 0,
      "source": [
        "# Read recipe inputs\n",
        "ghg_input \u003d dataiku.Dataset(\"GHG_Emissions_prepared\")\n",
        "ghg_input_df \u003d ghg_input.get_dataframe()\n",
        "finance_input \u003d dataiku.Dataset(\"Input_prepared\")\n",
        "finance_input_df \u003d finance_input.get_dataframe()"
      ]
    },
    {
      "cell_type": "markdown",
      "metadata": {},
      "source": [
        "## Actual Processing\n",
        "\n",
        "- Computes a range of years, and then extrapolates linearly till 2100"
      ]
    },
    {
      "cell_type": "code",
      "metadata": {},
      "outputs": [],
      "execution_count": 0,
      "source": [
        "years \u003d pd.Series(list(range(2021, 2100)))\n",
        "revenue \u003d finance_input_df[\"Revenue (All regions)\"]"
      ]
    },
    {
      "cell_type": "code",
      "metadata": {},
      "outputs": [],
      "execution_count": 0,
      "source": [
        "output_df \u003d pd.concat({\n",
        "    \u0027year\u0027: years,\n",
        "    \"Revenue (All regions)\": finance\n",
        "}, axis\u003d1)\n",
        "output_df"
      ]
    },
    {
      "cell_type": "code",
      "metadata": {},
      "outputs": [],
      "execution_count": 0,
      "source": [
        "output_df \u003d output_df.interpolate(method \u003d\u0027barycentric\u0027, limit_direction \u003d\u0027forward\u0027)\n",
        "output_df"
      ]
    },
    {
      "cell_type": "markdown",
      "metadata": {},
      "source": [
        "## Saving data"
      ]
    },
    {
      "cell_type": "code",
      "metadata": {},
      "outputs": [],
      "execution_count": 0,
      "source": [
        "# Write recipe outputs\n",
        "Output \u003d dataiku.Dataset(\"Output\")\n",
        "Output.write_with_schema(output_df)"
      ]
    }
  ]
}