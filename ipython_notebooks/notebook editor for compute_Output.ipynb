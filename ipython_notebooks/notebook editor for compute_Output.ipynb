{
  "metadata": {
    "kernelspec": {
      "name": "py-dku-containerized-venv--cpu-m-1-cpu-4gb-ram",
      "display_name": "Python in CPU-M-1-cpu-4Gb-Ram (builtin env)",
      "language": "python"
    },
    "associatedRecipe": "compute_Output",
    "creator": "hacragajeuddou-5964@toolbox.ovh",
    "createdOn": 1688992202135,
    "tags": [
      "recipe-editor"
    ],
    "customFields": {},
    "hide_input": false,
    "language_info": {
      "name": "python",
      "version": "3.6.8",
      "mimetype": "text/x-python",
      "codemirror_mode": {
        "name": "ipython",
        "version": 3
      },
      "pygments_lexer": "ipython3",
      "nbconvert_exporter": "python",
      "file_extension": ".py"
    },
    "modifiedBy": "hacragajeuddou-5964@toolbox.ovh"
  },
  "nbformat": 4,
  "nbformat_minor": 1,
  "cells": [
    {
      "execution_count": 0,
      "cell_type": "code",
      "metadata": {},
      "source": [
        "# -*- coding: utf-8 -*-\nimport dataiku\nimport pandas as pd, numpy as np\nfrom dataiku import pandasutils as pdu"
      ],
      "outputs": []
    },
    {
      "execution_count": 0,
      "cell_type": "code",
      "metadata": {},
      "source": [
        "# Read recipe inputs\ninput \u003d dataiku.Dataset(\"Processed_Input\")\ninput_df \u003d input.get_dataframe()\nghg_emmissions \u003d dataiku.Dataset(\"GHG_Emissions_processed\")\nghg_emmissions_df \u003d ghg_emmissions.get_dataframe()"
      ],
      "outputs": []
    },
    {
      "execution_count": 0,
      "cell_type": "code",
      "metadata": {},
      "source": [
        "labels \u003d pd.Series(list(range(2020,2100)))\ncash \u003d input_df[\"Cash and cash equivalents\"]\n\nOutput_df \u003d pd.concat(labels, cash)"
      ],
      "outputs": []
    },
    {
      "execution_count": 0,
      "cell_type": "code",
      "metadata": {},
      "source": [
        "# Write recipe outputs\nOutput \u003d dataiku.Dataset(\"Output\")\nOutput.write_with_schema(Output_df)"
      ],
      "outputs": []
    }
  ]
}