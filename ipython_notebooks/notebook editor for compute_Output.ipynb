{
  "nbformat": 4,
  "nbformat_minor": 0,
  "metadata": {
    "kernelspec": {
      "display_name": "Python in CPU-M-1-cpu-4Gb-Ram (builtin env)",
      "language": "python",
      "name": "py-dku-containerized-venv--cpu-m-1-cpu-4gb-ram"
    },
    "associatedRecipe": "compute_Output",
    "creator": "hacragajeuddou-5964@toolbox.ovh",
    "createdOn": 1688992202135,
    "tags": [
      "recipe-editor"
    ],
    "customFields": {}
  },
  "cells": [
    {
      "cell_type": "code",
      "metadata": {},
      "outputs": [],
      "execution_count": 0,
      "source": [
        "# -*- coding: utf-8 -*-\n",
        "import dataiku\n",
        "import pandas as pd, numpy as np\n",
        "from dataiku import pandasutils as pdu\n",
        "\n",
        "# Read recipe inputs\n",
        "input \u003d dataiku.Dataset(\"Processed_Input\")\n",
        "input_df \u003d Processed_Input.get_dataframe()\n",
        "ghg_emmissions \u003d dataiku.Dataset(\"GHG_Emissions_processed\")\n",
        "ghg_emmissions_df \u003d GHG_Emissions_processed.get_dataframe()\n",
        "\n",
        "\n",
        "# Compute recipe outputs\n",
        "# TODO: Write here your actual code that computes the outputs\n",
        "# NB: DSS supports several kinds of APIs for reading and writing data. Please see doc.\n",
        "\n",
        "labels \u003d pd.Series(list(range(2020,2100)))\n",
        "cash \u003d input_df[\"Cash and cash equivalents\"]\n",
        "\n",
        "pd.\n",
        "\n",
        "\n",
        "Output_df \u003d ... # Compute a Pandas dataframe to write into Output\n",
        "\n",
        "\n",
        "# Write recipe outputs\n",
        "Output \u003d dataiku.Dataset(\"Output\")\n",
        "Output.write_with_schema(Output_df)"
      ]
    }
  ]
}